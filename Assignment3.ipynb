{
 "cells": [
  {
   "cell_type": "markdown",
   "id": "045f4be8-71cc-4832-8eb0-4f265a0a9f1d",
   "metadata": {},
   "source": [
    "Q1. Which keyword is used to create a function? Create a function to return a list of odd numbers in the\n",
    "range of 1 to 25.\n",
    "\n",
    "Ans.\"def\" keyword is used to create a function."
   ]
  },
  {
   "cell_type": "code",
   "execution_count": 4,
   "id": "34058c76-9033-4707-892d-5d150e42b3a9",
   "metadata": {},
   "outputs": [
    {
     "name": "stdout",
     "output_type": "stream",
     "text": [
      "odd numbers in the range are\n"
     ]
    }
   ],
   "source": [
    "ll= int(\"1\")\n",
    "ul = int(\"25\") \n",
    "print(\"odd numbers in the range are\")\n",
    "         "
   ]
  },
  {
   "cell_type": "code",
   "execution_count": 10,
   "id": "f0dbc7e7-04e6-40ec-be54-661b3d767069",
   "metadata": {},
   "outputs": [
    {
     "name": "stdout",
     "output_type": "stream",
     "text": [
      "1  \n",
      "3  \n",
      "5  \n",
      "7  \n",
      "9  \n",
      "11  \n",
      "13  \n",
      "15  \n",
      "17  \n",
      "19  \n",
      "21  \n",
      "23  \n"
     ]
    }
   ],
   "source": [
    "for i in range(ll,ul):\n",
    "    if i%2 == 1:\n",
    "        print(i ,\" \")"
   ]
  },
  {
   "cell_type": "code",
   "execution_count": null,
   "id": "fd9401ed-f6b5-4ac4-99d2-a95503eac1d0",
   "metadata": {},
   "outputs": [],
   "source": []
  },
  {
   "cell_type": "markdown",
   "id": "310b78fb-fb34-49f8-ab43-787c88b39992",
   "metadata": {},
   "source": [
    "Q2. Why *args and **kwargs is used in some functions? Create a function each for *args and **kwargs\n",
    "to demonstrate their use.\n",
    "\n",
    "Ans. The special syntax *args is used to pass a variable number of arguments to a function. It is used to pass a non-keyworded, variable-length argument list.\n",
    "Using the *, the variable that we associate with the * becomes iterable meaning you can do things like iterate over it, run some higher-order functions such as map and filter,etc."
   ]
  },
  {
   "cell_type": "code",
   "execution_count": 5,
   "id": "a557be03-cf1f-4942-80cc-99e7e8335aab",
   "metadata": {},
   "outputs": [
    {
     "name": "stdout",
     "output_type": "stream",
     "text": [
      "5\n",
      "10\n",
      "17\n"
     ]
    }
   ],
   "source": [
    "def add(*num):\n",
    "    total = 0 \n",
    "    \n",
    "    for i in num:\n",
    "        total += i\n",
    "    return total \n",
    "\n",
    "print(add(2,3))\n",
    "print(add(2,3,5))\n",
    "print(add(2,3,5,7))"
   ]
  },
  {
   "cell_type": "markdown",
   "id": "37c83cf0-7763-4a5f-b01a-32ec6eb3f7cd",
   "metadata": {},
   "source": [
    "The special syntax *kwargs in function is used to pass a keyworded, variable-lenght argument list. We use the name kwargs tith the double star. The reason is that the double star allows us to pass through keyword arguements(and any number of them).\n"
   ]
  },
  {
   "cell_type": "code",
   "execution_count": 7,
   "id": "267d1ba1-914e-4af3-b409-cda3fede6cd0",
   "metadata": {},
   "outputs": [
    {
     "name": "stdout",
     "output_type": "stream",
     "text": [
      "{'banana': 5, 'mango': 7, 'apple': 8} <class 'dict'>\n"
     ]
    }
   ],
   "source": [
    "def total_fruits(**kwargs):\n",
    "    print(kwargs, type(kwargs))\n",
    "    \n",
    "total_fruits(banana = 5 , mango = 7 , apple = 8)"
   ]
  },
  {
   "cell_type": "code",
   "execution_count": null,
   "id": "7805fda5-4ec7-4e72-84b5-4534d9fd9eac",
   "metadata": {},
   "outputs": [],
   "source": []
  },
  {
   "cell_type": "markdown",
   "id": "12015b52-235e-4a39-a09c-6f110e10048d",
   "metadata": {},
   "source": [
    "Q3.  What is an iterator in python? Name the method used to initialise the iterator object and the method\n",
    "used for iteration. Use these methods to print the first five elements of the given list [2, 4, 6, 8, 10, 12, 14,\n",
    "16, 18, 20].\n",
    "\n",
    "Ans. An iterator is an object that allows us to iterate over collections of data, such as lists, tuples, dictionaries, and sets.Pyhton iterators implement the iteratir design pattern, which allows us to traverse a container and access its elements.\n",
    "\n",
    "The Pyhton iterators object is initialized using the iter() method. It uses the next() method for iteration.\n",
    "__next__():The next method returns the next value for the iterable."
   ]
  },
  {
   "cell_type": "code",
   "execution_count": 14,
   "id": "4de2bcc2-cbbf-40f0-aed9-f6095f50b4ea",
   "metadata": {},
   "outputs": [
    {
     "name": "stdout",
     "output_type": "stream",
     "text": [
      "2\n",
      "4\n",
      "6\n",
      "8\n",
      "10\n"
     ]
    }
   ],
   "source": [
    "#use iterator method to print the first five elements of the list\n",
    "l = [2, 4, 6, 8, 10, 12, 14, 16, 18, 20]\n",
    "count = 0 \n",
    "for i in l : \n",
    "    if count< 5:\n",
    "        print(i)\n",
    "        count+= 1 "
   ]
  },
  {
   "cell_type": "code",
   "execution_count": null,
   "id": "c61e4db8-f4c8-4a77-b5a0-fb6a1a041060",
   "metadata": {},
   "outputs": [],
   "source": []
  },
  {
   "cell_type": "markdown",
   "id": "786aa3b6-9837-4a08-839b-1a8c325e085b",
   "metadata": {},
   "source": [
    "Q4.  What is a generator function in python? Why yield keyword is used? Give an example of a generator\n",
    "function.\n",
    "\n",
    "Ans. A generator function in pyhton is a special type of function that returns a generator iterator, which can be used to iterate over a sequence of elements. A generator function is defined like a normal function, but instead of using the return statement to return a value, it uses the yield statement. The yield statement is used to produce a value, and the generator function can be resumed form where it left off the next time next() is called on generator.\n",
    "here is an example of a generator function that generates the the fibonacci sequences: \n",
    " "
   ]
  },
  {
   "cell_type": "code",
   "execution_count": 19,
   "id": "cdde72e9-e5e4-4a1d-a365-a3ec25421c83",
   "metadata": {},
   "outputs": [],
   "source": [
    "def mygenerator(n):\n",
    "    for i in range(1,n,2):\n",
    "        yield i**3"
   ]
  },
  {
   "cell_type": "code",
   "execution_count": 22,
   "id": "de959128-e576-4e96-aeb0-f96e2e773360",
   "metadata": {},
   "outputs": [
    {
     "name": "stdout",
     "output_type": "stream",
     "text": [
      "1\n",
      "27\n",
      "125\n",
      "343\n",
      "729\n"
     ]
    }
   ],
   "source": [
    "for i in mygenerator(10):\n",
    "    print(i)"
   ]
  },
  {
   "cell_type": "code",
   "execution_count": null,
   "id": "2c779ed0-7387-49e0-b117-652e5b8f90d6",
   "metadata": {},
   "outputs": [],
   "source": []
  },
  {
   "cell_type": "markdown",
   "id": "0019adae-0790-4402-af6b-7a23255b41ae",
   "metadata": {},
   "source": [
    "Q5. Create a generator function for prime numbers less than 1000. Use the next() method to print the\n",
    "first 20 prime numbers.\n",
    "\n"
   ]
  },
  {
   "cell_type": "code",
   "execution_count": 13,
   "id": "9b037c7b-7d64-4415-9639-1e6d3e6d6509",
   "metadata": {},
   "outputs": [],
   "source": [
    "# a generator function for prime numbers less than 1000. Use the next() method to print the first 20 prime numbers.\n",
    "def prime():\n",
    "    \"\"\"Create a generator function for prime numbers less than 1000\"\"\"\n",
    "    yield 2 \n",
    "    prime_list = [2]\n",
    "    for i in range (3, 1000):\n",
    "        is_prime = True\n",
    "        for prime in prime_list:\n",
    "            if i % prime == 0:\n",
    "                is_prime = False\n",
    "                break\n",
    "    if is_prime:\n",
    "        prime_list.append(i)\n",
    "        yield i \n",
    "    "
   ]
  },
  {
   "cell_type": "code",
   "execution_count": 14,
   "id": "75e4cf5b-18c7-4135-876e-38abce904763",
   "metadata": {},
   "outputs": [
    {
     "name": "stdout",
     "output_type": "stream",
     "text": [
      "2\n",
      "999\n"
     ]
    },
    {
     "ename": "StopIteration",
     "evalue": "",
     "output_type": "error",
     "traceback": [
      "\u001b[0;31m---------------------------------------------------------------------------\u001b[0m",
      "\u001b[0;31mStopIteration\u001b[0m                             Traceback (most recent call last)",
      "Cell \u001b[0;32mIn[14], line 4\u001b[0m\n\u001b[1;32m      2\u001b[0m \u001b[38;5;66;03m#the next() method to print the first 20 prime numbers.\u001b[39;00m\n\u001b[1;32m      3\u001b[0m \u001b[38;5;28;01mfor\u001b[39;00m i \u001b[38;5;129;01min\u001b[39;00m \u001b[38;5;28mrange\u001b[39m (\u001b[38;5;241m20\u001b[39m):\n\u001b[0;32m----> 4\u001b[0m     \u001b[38;5;28mprint\u001b[39m(\u001b[38;5;28;43mnext\u001b[39;49m\u001b[43m(\u001b[49m\u001b[43mprime_gen\u001b[49m\u001b[43m)\u001b[49m)\n",
      "\u001b[0;31mStopIteration\u001b[0m: "
     ]
    }
   ],
   "source": [
    "prime_gen = prime()\n",
    "#the next() method to print the first 20 prime numbers.\n",
    "for i in range (20):\n",
    "    print(next(prime_gen))"
   ]
  },
  {
   "cell_type": "markdown",
   "id": "989f74d5-23b3-4de9-a9cc-99336f49035d",
   "metadata": {},
   "source": [
    "Q6. Write a python program to print the first 10 Fibonacci numbers using a while loop."
   ]
  },
  {
   "cell_type": "code",
   "execution_count": 10,
   "id": "adc996a6-4fbd-4c9e-bbaa-f0d7ca6de882",
   "metadata": {},
   "outputs": [
    {
     "name": "stdout",
     "output_type": "stream",
     "text": [
      "0\n",
      "1\n",
      "1\n",
      "2\n",
      "3\n",
      "5\n",
      "8\n",
      "13\n",
      "21\n",
      "34\n"
     ]
    }
   ],
   "source": [
    "# A python program to print the first 10 fiboncci nmubers using a while loop. \n",
    "def fibonacci(n):\n",
    "    \"\"\"This function will print fibonacci sequence\"\"\"\n",
    "    a,b = 0,1\n",
    "    count = 0 \n",
    "    while count < n :\n",
    "        print(a)\n",
    "        a,b = b , a+b\n",
    "        count+= 1\n",
    "fibonacci(10) "
   ]
  },
  {
   "cell_type": "code",
   "execution_count": null,
   "id": "80f0a5e8-fe9a-4114-bca7-5351df311434",
   "metadata": {},
   "outputs": [],
   "source": []
  },
  {
   "cell_type": "markdown",
   "id": "bea78410-b629-4845-b155-b8ae5b5c8e8f",
   "metadata": {},
   "source": [
    "Q7. Write a List Comprehension to iterate through the given string: ‘pwskills’.\n",
    "\n",
    "Expected output: ['p', 'w', 's', 'k', 'i', 'l', 'l', 's'] "
   ]
  },
  {
   "cell_type": "code",
   "execution_count": 16,
   "id": "c7eeabcd-4bbf-4cba-9527-b7bbe835eeec",
   "metadata": {},
   "outputs": [
    {
     "data": {
      "text/plain": [
       "['P', 'W', 'S', 'K', 'I', 'L', 'L', 'S']"
      ]
     },
     "execution_count": 16,
     "metadata": {},
     "output_type": "execute_result"
    }
   ],
   "source": [
    "# A list comprihension to iterate throughthe given string : pwskills.\n",
    "\n",
    "s = \"pwskills\"\n",
    "list(map(lambda s : s.upper() , s))"
   ]
  },
  {
   "cell_type": "code",
   "execution_count": null,
   "id": "0f2d7bdc-5f0d-44fe-a12a-5feef63bc40d",
   "metadata": {},
   "outputs": [],
   "source": []
  },
  {
   "cell_type": "markdown",
   "id": "a23543d7-a644-4998-882e-f2c858b6997b",
   "metadata": {},
   "source": [
    "Q8. Write a python program to check whether a given number is Palindrome or not using a while loop."
   ]
  },
  {
   "cell_type": "code",
   "execution_count": 2,
   "id": "9840e698-f18f-4e19-b729-1158ba8cbbf4",
   "metadata": {},
   "outputs": [
    {
     "name": "stdout",
     "output_type": "stream",
     "text": [
      "Not Palindrome\n",
      "Not Palindrome\n",
      "Not Palindrome\n",
      "Palindrome\n"
     ]
    }
   ],
   "source": [
    "num = 1221\n",
    "temp = num\n",
    "reverse = 0 \n",
    "while temp > 0:\n",
    "    remainder = temp % 10\n",
    "    reverse = (reverse * 10 ) + remainder\n",
    "    temp = temp // 10\n",
    "    if num == reverse:\n",
    "        print(\"Palindrome\")\n",
    "    else:\n",
    "        print(\"Not Palindrome\")"
   ]
  },
  {
   "cell_type": "code",
   "execution_count": null,
   "id": "8ab8e981-c8bb-414f-a5bf-da6be9aa3f08",
   "metadata": {},
   "outputs": [],
   "source": []
  },
  {
   "cell_type": "markdown",
   "id": "053cc876-4911-478c-9906-d0b244c47bef",
   "metadata": {},
   "source": [
    "Q9. Write a code to print odd numbers from 1 to 100 using list comprehension."
   ]
  },
  {
   "cell_type": "code",
   "execution_count": 1,
   "id": "6af714cf-771d-44b5-82a0-d02be49630e9",
   "metadata": {},
   "outputs": [
    {
     "name": "stdout",
     "output_type": "stream",
     "text": [
      "[1, 3, 5, 7, 9, 11, 13, 15, 17, 19, 21, 23, 25, 27, 29, 31, 33, 35, 37, 39, 41, 43, 45, 47, 49, 51, 53, 55, 57, 59, 61, 63, 65, 67, 69, 71, 73, 75, 77, 79, 81, 83, 85, 87, 89, 91, 93, 95, 97, 99]\n"
     ]
    }
   ],
   "source": [
    "odd_list = [element for element in range(1,100) if element % 2 ==1]\n",
    "print(odd_list)"
   ]
  },
  {
   "cell_type": "code",
   "execution_count": null,
   "id": "47123159-47c6-4cfd-9e0e-9a818be9b426",
   "metadata": {},
   "outputs": [],
   "source": []
  }
 ],
 "metadata": {
  "kernelspec": {
   "display_name": "Python 3 (ipykernel)",
   "language": "python",
   "name": "python3"
  },
  "language_info": {
   "codemirror_mode": {
    "name": "ipython",
    "version": 3
   },
   "file_extension": ".py",
   "mimetype": "text/x-python",
   "name": "python",
   "nbconvert_exporter": "python",
   "pygments_lexer": "ipython3",
   "version": "3.10.8"
  }
 },
 "nbformat": 4,
 "nbformat_minor": 5
}
